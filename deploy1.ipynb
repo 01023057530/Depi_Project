{
 "cells": [
  {
   "cell_type": "markdown",
   "id": "0b529005",
   "metadata": {},
   "source": [
    " # Azure deployment steps\n",
    "\n",
    "1. Azure Account with appropriate subscription\n",
    "2. Configuration file that has subscription_id and other details like resource_group name, etc\n",
    "3. Create a resource group from Azure Portal\n",
    "4. Create a workspace\n",
    "5. Register the model in container registry\n",
    "6. Deploy the model as endpoint\n",
    "7. Once done, delete the created resources"
   ]
  },
  {
   "cell_type": "code",
   "execution_count": null,
   "id": "d53c9874",
   "metadata": {},
   "outputs": [
    {
     "name": "stdout",
     "output_type": "stream",
     "text": [
      "Requirement already satisfied: azureml-sdk in /home/sid23/jupyter/environment/lib/python3.10/site-packages (1.54.0)\n",
      "Requirement already satisfied: azureml-core~=1.54.0 in /home/sid23/jupyter/environment/lib/python3.10/site-packages (from azureml-sdk) (1.54.0.post1)\n",
      "Requirement already satisfied: azureml-dataset-runtime~=1.54.0 in /home/sid23/jupyter/environment/lib/python3.10/site-packages (from azureml-dataset-runtime[fuse]~=1.54.0->azureml-sdk) (1.54.0.post1)\n",
      "Requirement already satisfied: azureml-train-core~=1.54.0 in /home/sid23/jupyter/environment/lib/python3.10/site-packages (from azureml-sdk) (1.54.0)\n",
      "Requirement already satisfied: azureml-train-automl-client~=1.54.0 in /home/sid23/jupyter/environment/lib/python3.10/site-packages (from azureml-sdk) (1.54.0.post1)\n",
      "Requirement already satisfied: azureml-pipeline~=1.54.0 in /home/sid23/jupyter/environment/lib/python3.10/site-packages (from azureml-sdk) (1.54.0)\n",
      "Requirement already satisfied: pytz in /home/sid23/jupyter/environment/lib/python3.10/site-packages (from azureml-core~=1.54.0->azureml-sdk) (2023.3.post1)\n",
      "Requirement already satisfied: backports.tempfile in /home/sid23/jupyter/environment/lib/python3.10/site-packages (from azureml-core~=1.54.0->azureml-sdk) (1.0)\n",
      "Requirement already satisfied: pathspec<1.0.0 in /home/sid23/jupyter/environment/lib/python3.10/site-packages (from azureml-core~=1.54.0->azureml-sdk) (0.12.1)\n",
      "Requirement already satisfied: requests<3.0.0,>=2.19.1 in /home/sid23/jupyter/environment/lib/python3.10/site-packages (from requests[socks]<3.0.0,>=2.19.1->azureml-core~=1.54.0->azureml-sdk) (2.31.0)\n",
      "Requirement already satisfied: msal<2.0.0,>=1.15.0 in /home/sid23/jupyter/environment/lib/python3.10/site-packages (from azureml-core~=1.54.0->azureml-sdk) (1.26.0)\n",
      "Requirement already satisfied: msal-extensions<=1.0.0,>=0.3.0 in /home/sid23/jupyter/environment/lib/python3.10/site-packages (from azureml-core~=1.54.0->azureml-sdk) (1.0.0)\n",
      "Requirement already satisfied: knack<0.12.0 in /home/sid23/jupyter/environment/lib/python3.10/site-packages (from azureml-core~=1.54.0->azureml-sdk) (0.11.0)\n",
      "Requirement already satisfied: azure-core<2.0.0 in /home/sid23/jupyter/environment/lib/python3.10/site-packages (from azureml-core~=1.54.0->azureml-sdk) (1.29.6)\n",
      "Requirement already satisfied: pkginfo in /home/sid23/jupyter/environment/lib/python3.10/site-packages (from azureml-core~=1.54.0->azureml-sdk) (1.9.6)\n",
      "Requirement already satisfied: argcomplete<4 in /home/sid23/jupyter/environment/lib/python3.10/site-packages (from azureml-core~=1.54.0->azureml-sdk) (3.2.1)\n",
      "Requirement already satisfied: humanfriendly<11.0,>=4.7 in /home/sid23/jupyter/environment/lib/python3.10/site-packages (from azureml-core~=1.54.0->azureml-sdk) (10.0)\n",
      "Requirement already satisfied: paramiko<4.0.0,>=2.0.8 in /home/sid23/jupyter/environment/lib/python3.10/site-packages (from azureml-core~=1.54.0->azureml-sdk) (3.4.0)\n",
      "Requirement already satisfied: azure-mgmt-resource<=24.0.0,>=15.0.0 in /home/sid23/jupyter/environment/lib/python3.10/site-packages (from azureml-core~=1.54.0->azureml-sdk) (23.0.1)\n",
      "Requirement already satisfied: azure-mgmt-containerregistry<11,>=8.2.0 in /home/sid23/jupyter/environment/lib/python3.10/site-packages (from azureml-core~=1.54.0->azureml-sdk) (10.3.0)\n",
      "Requirement already satisfied: azure-mgmt-storage<=22.0.0,>=16.0.0 in /home/sid23/jupyter/environment/lib/python3.10/site-packages (from azureml-core~=1.54.0->azureml-sdk) (21.1.0)\n",
      "Requirement already satisfied: azure-mgmt-keyvault<11.0.0,>=0.40.0 in /home/sid23/jupyter/environment/lib/python3.10/site-packages (from azureml-core~=1.54.0->azureml-sdk) (10.3.0)\n",
      "Requirement already satisfied: azure-mgmt-authorization<5,>=0.40.0 in /home/sid23/jupyter/environment/lib/python3.10/site-packages (from azureml-core~=1.54.0->azureml-sdk) (4.0.0)\n",
      "Requirement already satisfied: azure-mgmt-network==25.1.0 in /home/sid23/jupyter/environment/lib/python3.10/site-packages (from azureml-core~=1.54.0->azureml-sdk) (25.1.0)\n",
      "Requirement already satisfied: azure-graphrbac<1.0.0,>=0.40.0 in /home/sid23/jupyter/environment/lib/python3.10/site-packages (from azureml-core~=1.54.0->azureml-sdk) (0.61.1)\n",
      "Requirement already satisfied: azure-common<2.0.0,>=1.1.12 in /home/sid23/jupyter/environment/lib/python3.10/site-packages (from azureml-core~=1.54.0->azureml-sdk) (1.1.28)\n",
      "Requirement already satisfied: msrest<=0.7.1,>=0.5.1 in /home/sid23/jupyter/environment/lib/python3.10/site-packages (from azureml-core~=1.54.0->azureml-sdk) (0.7.1)\n",
      "Requirement already satisfied: msrestazure<=0.6.4,>=0.4.33 in /home/sid23/jupyter/environment/lib/python3.10/site-packages (from azureml-core~=1.54.0->azureml-sdk) (0.6.4)\n",
      "Requirement already satisfied: urllib3<3.0.0,>1.26.17 in /home/sid23/jupyter/environment/lib/python3.10/site-packages (from azureml-core~=1.54.0->azureml-sdk) (2.0.7)\n",
      "Requirement already satisfied: packaging<=24.0,>=20.0 in /home/sid23/jupyter/environment/lib/python3.10/site-packages (from azureml-core~=1.54.0->azureml-sdk) (23.2)\n",
      "Requirement already satisfied: python-dateutil<3.0.0,>=2.7.3 in /home/sid23/jupyter/environment/lib/python3.10/site-packages (from azureml-core~=1.54.0->azureml-sdk) (2.8.2)\n",
      "Requirement already satisfied: ndg-httpsclient<=0.5.1 in /home/sid23/jupyter/environment/lib/python3.10/site-packages (from azureml-core~=1.54.0->azureml-sdk) (0.5.1)\n",
      "Requirement already satisfied: SecretStorage<4.0.0 in /home/sid23/jupyter/environment/lib/python3.10/site-packages (from azureml-core~=1.54.0->azureml-sdk) (3.3.3)\n",
      "Requirement already satisfied: jsonpickle<4.0.0 in /home/sid23/jupyter/environment/lib/python3.10/site-packages (from azureml-core~=1.54.0->azureml-sdk) (3.0.2)\n",
      "Requirement already satisfied: contextlib2<22.0.0 in /home/sid23/jupyter/environment/lib/python3.10/site-packages (from azureml-core~=1.54.0->azureml-sdk) (21.6.0)\n",
      "Requirement already satisfied: docker<7.0.0 in /home/sid23/jupyter/environment/lib/python3.10/site-packages (from azureml-core~=1.54.0->azureml-sdk) (6.1.3)\n",
      "Requirement already satisfied: PyJWT<3.0.0 in /home/sid23/jupyter/environment/lib/python3.10/site-packages (from azureml-core~=1.54.0->azureml-sdk) (2.8.0)\n",
      "Requirement already satisfied: adal<=1.2.7,>=1.2.0 in /home/sid23/jupyter/environment/lib/python3.10/site-packages (from azureml-core~=1.54.0->azureml-sdk) (1.2.7)\n",
      "Requirement already satisfied: pyopenssl<24.0.0 in /home/sid23/jupyter/environment/lib/python3.10/site-packages (from azureml-core~=1.54.0->azureml-sdk) (23.3.0)\n",
      "Requirement already satisfied: jmespath<2.0.0 in /home/sid23/jupyter/environment/lib/python3.10/site-packages (from azureml-core~=1.54.0->azureml-sdk) (1.0.1)\n",
      "Requirement already satisfied: isodate<1.0.0,>=0.6.1 in /home/sid23/jupyter/environment/lib/python3.10/site-packages (from azure-mgmt-network==25.1.0->azureml-core~=1.54.0->azureml-sdk) (0.6.1)\n",
      "Requirement already satisfied: azure-mgmt-core<2.0.0,>=1.3.2 in /home/sid23/jupyter/environment/lib/python3.10/site-packages (from azure-mgmt-network==25.1.0->azureml-core~=1.54.0->azureml-sdk) (1.4.0)\n",
      "Requirement already satisfied: azureml-dataprep<4.14.0a,>=4.12.0a in /home/sid23/jupyter/environment/lib/python3.10/site-packages (from azureml-dataset-runtime~=1.54.0->azureml-dataset-runtime[fuse]~=1.54.0->azureml-sdk) (4.12.8)\n",
      "Requirement already satisfied: pyarrow>=0.17.0 in /home/sid23/jupyter/environment/lib/python3.10/site-packages (from azureml-dataset-runtime~=1.54.0->azureml-dataset-runtime[fuse]~=1.54.0->azureml-sdk) (14.0.2)\n",
      "Requirement already satisfied: numpy!=1.19.3,<1.24 in /home/sid23/jupyter/environment/lib/python3.10/site-packages (from azureml-dataset-runtime~=1.54.0->azureml-dataset-runtime[fuse]~=1.54.0->azureml-sdk) (1.23.5)\n",
      "Requirement already satisfied: fusepy<4.0.0,>=3.0.1 in /home/sid23/jupyter/environment/lib/python3.10/site-packages (from azureml-dataset-runtime[fuse]~=1.54.0->azureml-sdk) (3.0.1)\n",
      "Requirement already satisfied: azureml-pipeline-core~=1.54.0 in /home/sid23/jupyter/environment/lib/python3.10/site-packages (from azureml-pipeline~=1.54.0->azureml-sdk) (1.54.0)\n",
      "Requirement already satisfied: azureml-pipeline-steps~=1.54.0 in /home/sid23/jupyter/environment/lib/python3.10/site-packages (from azureml-pipeline~=1.54.0->azureml-sdk) (1.54.0)\n",
      "Requirement already satisfied: azureml-automl-core~=1.54.0 in /home/sid23/jupyter/environment/lib/python3.10/site-packages (from azureml-train-automl-client~=1.54.0->azureml-sdk) (1.54.0)\n",
      "Requirement already satisfied: azureml-telemetry~=1.54.0 in /home/sid23/jupyter/environment/lib/python3.10/site-packages (from azureml-train-automl-client~=1.54.0->azureml-sdk) (1.54.0)\n",
      "Requirement already satisfied: azureml-train-restclients-hyperdrive~=1.54.0 in /home/sid23/jupyter/environment/lib/python3.10/site-packages (from azureml-train-core~=1.54.0->azureml-sdk) (1.54.0)\n",
      "Requirement already satisfied: cryptography>=1.1.0 in /home/sid23/jupyter/environment/lib/python3.10/site-packages (from adal<=1.2.7,>=1.2.0->azureml-core~=1.54.0->azureml-sdk) (41.0.7)\n",
      "Requirement already satisfied: anyio<5.0,>=3.0 in /home/sid23/jupyter/environment/lib/python3.10/site-packages (from azure-core<2.0.0->azureml-core~=1.54.0->azureml-sdk) (4.0.0)\n",
      "Requirement already satisfied: six>=1.11.0 in /home/sid23/jupyter/environment/lib/python3.10/site-packages (from azure-core<2.0.0->azureml-core~=1.54.0->azureml-sdk) (1.16.0)\n",
      "Requirement already satisfied: typing-extensions>=4.6.0 in /home/sid23/jupyter/environment/lib/python3.10/site-packages (from azure-core<2.0.0->azureml-core~=1.54.0->azureml-sdk) (4.8.0)\n",
      "Requirement already satisfied: dotnetcore2<4.0.0,>=3.0.0 in /home/sid23/jupyter/environment/lib/python3.10/site-packages (from azureml-dataprep<4.14.0a,>=4.12.0a->azureml-dataset-runtime~=1.54.0->azureml-dataset-runtime[fuse]~=1.54.0->azureml-sdk) (3.1.23)\n",
      "Requirement already satisfied: azureml-dataprep-native<39.0.0,>=38.0.0 in /home/sid23/jupyter/environment/lib/python3.10/site-packages (from azureml-dataprep<4.14.0a,>=4.12.0a->azureml-dataset-runtime~=1.54.0->azureml-dataset-runtime[fuse]~=1.54.0->azureml-sdk) (38.0.0)\n",
      "Requirement already satisfied: azureml-dataprep-rslex~=2.19.6dev0 in /home/sid23/jupyter/environment/lib/python3.10/site-packages (from azureml-dataprep<4.14.0a,>=4.12.0a->azureml-dataset-runtime~=1.54.0->azureml-dataset-runtime[fuse]~=1.54.0->azureml-sdk) (2.19.6)\n",
      "Requirement already satisfied: cloudpickle<3.0.0,>=1.1.0 in /home/sid23/jupyter/environment/lib/python3.10/site-packages (from azureml-dataprep<4.14.0a,>=4.12.0a->azureml-dataset-runtime~=1.54.0->azureml-dataset-runtime[fuse]~=1.54.0->azureml-sdk) (2.2.1)\n",
      "Requirement already satisfied: azure-identity>=1.7.0 in /home/sid23/jupyter/environment/lib/python3.10/site-packages (from azureml-dataprep<4.14.0a,>=4.12.0a->azureml-dataset-runtime~=1.54.0->azureml-dataset-runtime[fuse]~=1.54.0->azureml-sdk) (1.15.0)\n",
      "Requirement already satisfied: jsonschema in /home/sid23/jupyter/environment/lib/python3.10/site-packages (from azureml-dataprep<4.14.0a,>=4.12.0a->azureml-dataset-runtime~=1.54.0->azureml-dataset-runtime[fuse]~=1.54.0->azureml-sdk) (4.19.2)\n",
      "Requirement already satisfied: pyyaml<7.0.0,>=5.1.0 in /home/sid23/jupyter/environment/lib/python3.10/site-packages (from azureml-dataprep<4.14.0a,>=4.12.0a->azureml-dataset-runtime~=1.54.0->azureml-dataset-runtime[fuse]~=1.54.0->azureml-sdk) (6.0.1)\n",
      "Requirement already satisfied: applicationinsights in /home/sid23/jupyter/environment/lib/python3.10/site-packages (from azureml-telemetry~=1.54.0->azureml-train-automl-client~=1.54.0->azureml-sdk) (0.11.10)\n",
      "Requirement already satisfied: websocket-client>=0.32.0 in /home/sid23/jupyter/environment/lib/python3.10/site-packages (from docker<7.0.0->azureml-core~=1.54.0->azureml-sdk) (1.6.4)\n",
      "Requirement already satisfied: pygments in /home/sid23/jupyter/environment/lib/python3.10/site-packages (from knack<0.12.0->azureml-core~=1.54.0->azureml-sdk) (2.16.1)\n",
      "Requirement already satisfied: tabulate in /home/sid23/jupyter/environment/lib/python3.10/site-packages (from knack<0.12.0->azureml-core~=1.54.0->azureml-sdk) (0.9.0)\n",
      "Requirement already satisfied: portalocker<3,>=1.0 in /home/sid23/jupyter/environment/lib/python3.10/site-packages (from msal-extensions<=1.0.0,>=0.3.0->azureml-core~=1.54.0->azureml-sdk) (2.8.2)\n",
      "Requirement already satisfied: certifi>=2017.4.17 in /home/sid23/jupyter/environment/lib/python3.10/site-packages (from msrest<=0.7.1,>=0.5.1->azureml-core~=1.54.0->azureml-sdk) (2023.7.22)\n",
      "Requirement already satisfied: requests-oauthlib>=0.5.0 in /home/sid23/jupyter/environment/lib/python3.10/site-packages (from msrest<=0.7.1,>=0.5.1->azureml-core~=1.54.0->azureml-sdk) (1.3.1)\n",
      "Requirement already satisfied: pyasn1>=0.1.1 in /home/sid23/jupyter/environment/lib/python3.10/site-packages (from ndg-httpsclient<=0.5.1->azureml-core~=1.54.0->azureml-sdk) (0.5.1)\n",
      "Requirement already satisfied: bcrypt>=3.2 in /home/sid23/jupyter/environment/lib/python3.10/site-packages (from paramiko<4.0.0,>=2.0.8->azureml-core~=1.54.0->azureml-sdk) (4.1.2)\n",
      "Requirement already satisfied: pynacl>=1.5 in /home/sid23/jupyter/environment/lib/python3.10/site-packages (from paramiko<4.0.0,>=2.0.8->azureml-core~=1.54.0->azureml-sdk) (1.5.0)\n",
      "Requirement already satisfied: charset-normalizer<4,>=2 in /home/sid23/jupyter/environment/lib/python3.10/site-packages (from requests<3.0.0,>=2.19.1->requests[socks]<3.0.0,>=2.19.1->azureml-core~=1.54.0->azureml-sdk) (3.3.1)\n",
      "Requirement already satisfied: idna<4,>=2.5 in /home/sid23/jupyter/environment/lib/python3.10/site-packages (from requests<3.0.0,>=2.19.1->requests[socks]<3.0.0,>=2.19.1->azureml-core~=1.54.0->azureml-sdk) (3.4)\n",
      "Requirement already satisfied: PySocks!=1.5.7,>=1.5.6 in /home/sid23/jupyter/environment/lib/python3.10/site-packages (from requests[socks]<3.0.0,>=2.19.1->azureml-core~=1.54.0->azureml-sdk) (1.7.1)\n",
      "Requirement already satisfied: jeepney>=0.6 in /home/sid23/jupyter/environment/lib/python3.10/site-packages (from SecretStorage<4.0.0->azureml-core~=1.54.0->azureml-sdk) (0.8.0)\n",
      "Requirement already satisfied: backports.weakref in /home/sid23/jupyter/environment/lib/python3.10/site-packages (from backports.tempfile->azureml-core~=1.54.0->azureml-sdk) (1.0.post1)\n",
      "Requirement already satisfied: sniffio>=1.1 in /home/sid23/jupyter/environment/lib/python3.10/site-packages (from anyio<5.0,>=3.0->azure-core<2.0.0->azureml-core~=1.54.0->azureml-sdk) (1.3.0)\n",
      "Requirement already satisfied: exceptiongroup>=1.0.2 in /home/sid23/jupyter/environment/lib/python3.10/site-packages (from anyio<5.0,>=3.0->azure-core<2.0.0->azureml-core~=1.54.0->azureml-sdk) (1.1.3)\n",
      "Requirement already satisfied: cffi>=1.12 in /home/sid23/jupyter/environment/lib/python3.10/site-packages (from cryptography>=1.1.0->adal<=1.2.7,>=1.2.0->azureml-core~=1.54.0->azureml-sdk) (1.16.0)\n",
      "Requirement already satisfied: distro>=1.2.0 in /home/sid23/jupyter/environment/lib/python3.10/site-packages (from dotnetcore2<4.0.0,>=3.0.0->azureml-dataprep<4.14.0a,>=4.12.0a->azureml-dataset-runtime~=1.54.0->azureml-dataset-runtime[fuse]~=1.54.0->azureml-sdk) (1.9.0)\n",
      "Requirement already satisfied: oauthlib>=3.0.0 in /home/sid23/jupyter/environment/lib/python3.10/site-packages (from requests-oauthlib>=0.5.0->msrest<=0.7.1,>=0.5.1->azureml-core~=1.54.0->azureml-sdk) (3.2.2)\n",
      "Requirement already satisfied: attrs>=22.2.0 in /home/sid23/jupyter/environment/lib/python3.10/site-packages (from jsonschema->azureml-dataprep<4.14.0a,>=4.12.0a->azureml-dataset-runtime~=1.54.0->azureml-dataset-runtime[fuse]~=1.54.0->azureml-sdk) (23.1.0)\n",
      "Requirement already satisfied: jsonschema-specifications>=2023.03.6 in /home/sid23/jupyter/environment/lib/python3.10/site-packages (from jsonschema->azureml-dataprep<4.14.0a,>=4.12.0a->azureml-dataset-runtime~=1.54.0->azureml-dataset-runtime[fuse]~=1.54.0->azureml-sdk) (2023.7.1)\n",
      "Requirement already satisfied: referencing>=0.28.4 in /home/sid23/jupyter/environment/lib/python3.10/site-packages (from jsonschema->azureml-dataprep<4.14.0a,>=4.12.0a->azureml-dataset-runtime~=1.54.0->azureml-dataset-runtime[fuse]~=1.54.0->azureml-sdk) (0.30.2)\n",
      "Requirement already satisfied: rpds-py>=0.7.1 in /home/sid23/jupyter/environment/lib/python3.10/site-packages (from jsonschema->azureml-dataprep<4.14.0a,>=4.12.0a->azureml-dataset-runtime~=1.54.0->azureml-dataset-runtime[fuse]~=1.54.0->azureml-sdk) (0.10.6)\n",
      "Requirement already satisfied: pycparser in /home/sid23/jupyter/environment/lib/python3.10/site-packages (from cffi>=1.12->cryptography>=1.1.0->adal<=1.2.7,>=1.2.0->azureml-core~=1.54.0->azureml-sdk) (2.21)\n",
      "\n",
      "\u001b[1m[\u001b[0m\u001b[34;49mnotice\u001b[0m\u001b[1;39;49m]\u001b[0m\u001b[39;49m A new release of pip is available: \u001b[0m\u001b[31;49m23.3.1\u001b[0m\u001b[39;49m -> \u001b[0m\u001b[32;49m23.3.2\u001b[0m\n",
      "\u001b[1m[\u001b[0m\u001b[34;49mnotice\u001b[0m\u001b[1;39;49m]\u001b[0m\u001b[39;49m To update, run: \u001b[0m\u001b[32;49mpip install --upgrade pip\u001b[0m\n"
     ]
    }
   ],
   "source": [
    "#pip install azureml-sdk"
   ]
  },
  {
   "cell_type": "markdown",
   "id": "f4af242c",
   "metadata": {},
   "source": [
    " # IMPORT DEPENDENCIES FOR DEPLOYMENT"
   ]
  },
  {
   "cell_type": "code",
   "execution_count": 20,
   "id": "014acbb6",
   "metadata": {},
   "outputs": [
    {
     "name": "stdout",
     "output_type": "stream",
     "text": [
      "c:\\Users\\alaat\\Downloads\\Project\\env\\Scripts\\python.exe\n"
     ]
    }
   ],
   "source": [
    "import sys\n",
    "print(sys.executable)\n"
   ]
  },
  {
   "cell_type": "code",
   "execution_count": 31,
   "id": "d67ece7b",
   "metadata": {},
   "outputs": [
    {
     "ename": "ImportError",
     "evalue": "cannot import name 'Iterable' from 'collections' (C:\\Program Files\\WindowsApps\\PythonSoftwareFoundation.Python.3.12_3.12.2800.0_x64__qbz5n2kfra8p0\\Lib\\collections\\__init__.py)",
     "output_type": "error",
     "traceback": [
      "\u001b[31m---------------------------------------------------------------------------\u001b[39m",
      "\u001b[31mImportError\u001b[39m                               Traceback (most recent call last)",
      "\u001b[36mCell\u001b[39m\u001b[36m \u001b[39m\u001b[32mIn[31]\u001b[39m\u001b[32m, line 14\u001b[39m\n\u001b[32m      9\u001b[39m \u001b[38;5;28;01mfrom\u001b[39;00m\u001b[38;5;250m \u001b[39m\u001b[34;01mazureml\u001b[39;00m\u001b[34;01m.\u001b[39;00m\u001b[34;01mcore\u001b[39;00m\u001b[34;01m.\u001b[39;00m\u001b[34;01mmodel\u001b[39;00m\u001b[38;5;250m \u001b[39m\u001b[38;5;28;01mimport\u001b[39;00m Model\n\u001b[32m     11\u001b[39m \u001b[38;5;28;01mfrom\u001b[39;00m\u001b[38;5;250m \u001b[39m\u001b[34;01mazureml\u001b[39;00m\u001b[34;01m.\u001b[39;00m\u001b[34;01mcore\u001b[39;00m\u001b[34;01m.\u001b[39;00m\u001b[34;01mwebservice\u001b[39;00m\u001b[38;5;250m \u001b[39m\u001b[38;5;28;01mimport\u001b[39;00m AciWebservice, Webservice\n\u001b[32m---> \u001b[39m\u001b[32m14\u001b[39m \u001b[38;5;28;01mfrom\u001b[39;00m\u001b[38;5;250m \u001b[39m\u001b[34;01mazureml\u001b[39;00m\u001b[34;01m.\u001b[39;00m\u001b[34;01mcore\u001b[39;00m\u001b[38;5;250m \u001b[39m\u001b[38;5;28;01mimport\u001b[39;00m Workspace\n\u001b[32m     15\u001b[39m \u001b[38;5;28;01mfrom\u001b[39;00m\u001b[38;5;250m \u001b[39m\u001b[34;01mazureml\u001b[39;00m\u001b[34;01m.\u001b[39;00m\u001b[34;01mcore\u001b[39;00m\u001b[34;01m.\u001b[39;00m\u001b[34;01menvironment\u001b[39;00m\u001b[38;5;250m \u001b[39m\u001b[38;5;28;01mimport\u001b[39;00m Environment\n\u001b[32m     16\u001b[39m \u001b[38;5;28;01mfrom\u001b[39;00m\u001b[38;5;250m \u001b[39m\u001b[34;01mazureml\u001b[39;00m\u001b[34;01m.\u001b[39;00m\u001b[34;01mcore\u001b[39;00m\u001b[34;01m.\u001b[39;00m\u001b[34;01mconda_dependencies\u001b[39;00m\u001b[38;5;250m \u001b[39m\u001b[38;5;28;01mimport\u001b[39;00m CondaDependencies\n",
      "\u001b[36mFile \u001b[39m\u001b[32mc:\\Users\\alaat\\Downloads\\Project\\env\\Lib\\site-packages\\azureml\\core\\__init__.py:10\u001b[39m\n\u001b[32m      1\u001b[39m \u001b[38;5;66;03m# ---------------------------------------------------------\u001b[39;00m\n\u001b[32m      2\u001b[39m \u001b[38;5;66;03m# Copyright (c) Microsoft Corporation. All rights reserved.\u001b[39;00m\n\u001b[32m      3\u001b[39m \u001b[38;5;66;03m# ---------------------------------------------------------\u001b[39;00m\n\u001b[32m      5\u001b[39m \u001b[33;03m\"\"\"Contains core packages, modules and classes for Azure Machine Learning.\u001b[39;00m\n\u001b[32m      6\u001b[39m \n\u001b[32m      7\u001b[39m \u001b[33;03mMain areas include managing compute targets, creating/managing workspaces and experiments, and submitting/accessing\u001b[39;00m\n\u001b[32m      8\u001b[39m \u001b[33;03mmodel runs and run output/logging.\u001b[39;00m\n\u001b[32m      9\u001b[39m \u001b[33;03m\"\"\"\u001b[39;00m\n\u001b[32m---> \u001b[39m\u001b[32m10\u001b[39m \u001b[38;5;28;01mfrom\u001b[39;00m\u001b[38;5;250m \u001b[39m\u001b[34;01mazureml\u001b[39;00m\u001b[34;01m.\u001b[39;00m\u001b[34;01mcore\u001b[39;00m\u001b[34;01m.\u001b[39;00m\u001b[34;01mworkspace\u001b[39;00m\u001b[38;5;250m \u001b[39m\u001b[38;5;28;01mimport\u001b[39;00m Workspace\n\u001b[32m     11\u001b[39m \u001b[38;5;28;01mfrom\u001b[39;00m\u001b[38;5;250m \u001b[39m\u001b[34;01mazureml\u001b[39;00m\u001b[34;01m.\u001b[39;00m\u001b[34;01mcore\u001b[39;00m\u001b[34;01m.\u001b[39;00m\u001b[34;01mexperiment\u001b[39;00m\u001b[38;5;250m \u001b[39m\u001b[38;5;28;01mimport\u001b[39;00m Experiment\n\u001b[32m     12\u001b[39m \u001b[38;5;28;01mfrom\u001b[39;00m\u001b[38;5;250m \u001b[39m\u001b[34;01mazureml\u001b[39;00m\u001b[34;01m.\u001b[39;00m\u001b[34;01mcore\u001b[39;00m\u001b[34;01m.\u001b[39;00m\u001b[34;01mrunconfig\u001b[39;00m\u001b[38;5;250m \u001b[39m\u001b[38;5;28;01mimport\u001b[39;00m RunConfiguration\n",
      "\u001b[36mFile \u001b[39m\u001b[32mc:\\Users\\alaat\\Downloads\\Project\\env\\Lib\\site-packages\\azureml\\core\\workspace.py:35\u001b[39m\n\u001b[32m     33\u001b[39m \u001b[38;5;28;01mfrom\u001b[39;00m\u001b[38;5;250m \u001b[39m\u001b[34;01mazureml\u001b[39;00m\u001b[34;01m.\u001b[39;00m\u001b[34;01mcore\u001b[39;00m\u001b[34;01m.\u001b[39;00m\u001b[34;01mmodel\u001b[39;00m\u001b[38;5;250m \u001b[39m\u001b[38;5;28;01mimport\u001b[39;00m Model\n\u001b[32m     34\u001b[39m \u001b[38;5;28;01mfrom\u001b[39;00m\u001b[38;5;250m \u001b[39m\u001b[34;01mazureml\u001b[39;00m\u001b[34;01m.\u001b[39;00m\u001b[34;01mcore\u001b[39;00m\u001b[34;01m.\u001b[39;00m\u001b[34;01mwebservice\u001b[39;00m\u001b[38;5;250m \u001b[39m\u001b[38;5;28;01mimport\u001b[39;00m Webservice\n\u001b[32m---> \u001b[39m\u001b[32m35\u001b[39m \u001b[38;5;28;01mfrom\u001b[39;00m\u001b[38;5;250m \u001b[39m\u001b[34;01mazureml\u001b[39;00m\u001b[34;01m.\u001b[39;00m\u001b[34;01mdata\u001b[39;00m\u001b[34;01m.\u001b[39;00m\u001b[34;01mdatastore_client\u001b[39;00m\u001b[38;5;250m \u001b[39m\u001b[38;5;28;01mimport\u001b[39;00m _DatastoreClient\n\u001b[32m     37\u001b[39m _WorkspaceScopeInfo = collections.namedtuple(\u001b[33m\"\u001b[39m\u001b[33mWorkspaceScopeInfo\u001b[39m\u001b[33m\"\u001b[39m,\n\u001b[32m     38\u001b[39m                                              \u001b[33m\"\u001b[39m\u001b[33msubscription_id resource_group workspace_name\u001b[39m\u001b[33m\"\u001b[39m)\n\u001b[32m     40\u001b[39m CONFIG_FILE_NAME = \u001b[33m'\u001b[39m\u001b[33mconfig.json\u001b[39m\u001b[33m'\u001b[39m\n",
      "\u001b[36mFile \u001b[39m\u001b[32mc:\\Users\\alaat\\Downloads\\Project\\env\\Lib\\site-packages\\azureml\\data\\datastore_client.py:19\u001b[39m\n\u001b[32m     17\u001b[39m \u001b[38;5;28;01mfrom\u001b[39;00m\u001b[38;5;250m \u001b[39m\u001b[34;01mazureml\u001b[39;00m\u001b[34;01m.\u001b[39;00m\u001b[34;01m_restclient\u001b[39;00m\u001b[34;01m.\u001b[39;00m\u001b[34;01mmodels\u001b[39;00m\u001b[34;01m.\u001b[39;00m\u001b[34;01mazure_postgre_sql_dto\u001b[39;00m\u001b[38;5;250m \u001b[39m\u001b[38;5;28;01mimport\u001b[39;00m AzurePostgreSqlDto\n\u001b[32m     18\u001b[39m \u001b[38;5;28;01mfrom\u001b[39;00m\u001b[38;5;250m \u001b[39m\u001b[34;01mazureml\u001b[39;00m\u001b[34;01m.\u001b[39;00m\u001b[34;01m_restclient\u001b[39;00m\u001b[34;01m.\u001b[39;00m\u001b[34;01mmodels\u001b[39;00m\u001b[34;01m.\u001b[39;00m\u001b[34;01mclient_credentials_dto\u001b[39;00m\u001b[38;5;250m \u001b[39m\u001b[38;5;28;01mimport\u001b[39;00m ClientCredentialsDto\n\u001b[32m---> \u001b[39m\u001b[32m19\u001b[39m \u001b[38;5;28;01mfrom\u001b[39;00m\u001b[38;5;250m \u001b[39m\u001b[34;01m.\u001b[39;00m\u001b[34;01mazure_storage_datastore\u001b[39;00m\u001b[38;5;250m \u001b[39m\u001b[38;5;28;01mimport\u001b[39;00m AzureBlobDatastore, AzureFileDatastore\n\u001b[32m     20\u001b[39m \u001b[38;5;28;01mfrom\u001b[39;00m\u001b[38;5;250m \u001b[39m\u001b[34;01m.\u001b[39;00m\u001b[34;01mazure_data_lake_datastore\u001b[39;00m\u001b[38;5;250m \u001b[39m\u001b[38;5;28;01mimport\u001b[39;00m AzureDataLakeDatastore, AzureDataLakeGen2Datastore\n\u001b[32m     21\u001b[39m \u001b[38;5;28;01mfrom\u001b[39;00m\u001b[38;5;250m \u001b[39m\u001b[34;01m.\u001b[39;00m\u001b[34;01mazure_sql_database_datastore\u001b[39;00m\u001b[38;5;250m \u001b[39m\u001b[38;5;28;01mimport\u001b[39;00m AzureSqlDatabaseDatastore\n",
      "\u001b[36mFile \u001b[39m\u001b[32mc:\\Users\\alaat\\Downloads\\Project\\env\\Lib\\site-packages\\azureml\\data\\azure_storage_datastore.py:14\u001b[39m\n\u001b[32m     11\u001b[39m \u001b[38;5;28;01mfrom\u001b[39;00m\u001b[38;5;250m \u001b[39m\u001b[34;01mazureml\u001b[39;00m\u001b[34;01m.\u001b[39;00m\u001b[34;01m_vendor\u001b[39;00m\u001b[34;01m.\u001b[39;00m\u001b[34;01mazure_storage\u001b[39;00m\u001b[34;01m.\u001b[39;00m\u001b[34;01mblob\u001b[39;00m\u001b[38;5;250m \u001b[39m\u001b[38;5;28;01mimport\u001b[39;00m BlockBlobService\n\u001b[32m     12\u001b[39m \u001b[38;5;28;01mfrom\u001b[39;00m\u001b[38;5;250m \u001b[39m\u001b[34;01mazureml\u001b[39;00m\u001b[34;01m.\u001b[39;00m\u001b[34;01m_vendor\u001b[39;00m\u001b[34;01m.\u001b[39;00m\u001b[34;01mazure_storage\u001b[39;00m\u001b[34;01m.\u001b[39;00m\u001b[34;01mfile\u001b[39;00m\u001b[38;5;250m \u001b[39m\u001b[38;5;28;01mimport\u001b[39;00m FileService, models\n\u001b[32m---> \u001b[39m\u001b[32m14\u001b[39m \u001b[38;5;28;01mfrom\u001b[39;00m\u001b[38;5;250m \u001b[39m\u001b[34;01mazureml\u001b[39;00m\u001b[34;01m.\u001b[39;00m\u001b[34;01m_base_sdk_common\u001b[39;00m\u001b[34;01m.\u001b[39;00m\u001b[34;01mutils\u001b[39;00m\u001b[38;5;250m \u001b[39m\u001b[38;5;28;01mimport\u001b[39;00m create_retry, common_path, to_unix_path, accumulate\n\u001b[32m     15\u001b[39m \u001b[38;5;28;01mfrom\u001b[39;00m\u001b[38;5;250m \u001b[39m\u001b[34;01mazureml\u001b[39;00m\u001b[34;01m.\u001b[39;00m\u001b[34;01m_history\u001b[39;00m\u001b[34;01m.\u001b[39;00m\u001b[34;01mutils\u001b[39;00m\u001b[34;01m.\u001b[39;00m\u001b[34;01masync_task\u001b[39;00m\u001b[38;5;250m \u001b[39m\u001b[38;5;28;01mimport\u001b[39;00m AsyncTask\n\u001b[32m     16\u001b[39m \u001b[38;5;28;01mfrom\u001b[39;00m\u001b[38;5;250m \u001b[39m\u001b[34;01mazureml\u001b[39;00m\u001b[34;01m.\u001b[39;00m\u001b[34;01m_history\u001b[39;00m\u001b[34;01m.\u001b[39;00m\u001b[34;01mutils\u001b[39;00m\u001b[34;01m.\u001b[39;00m\u001b[34;01mtask_queue\u001b[39;00m\u001b[38;5;250m \u001b[39m\u001b[38;5;28;01mimport\u001b[39;00m TaskQueue\n",
      "\u001b[36mFile \u001b[39m\u001b[32mc:\\Users\\alaat\\Downloads\\Project\\env\\Lib\\site-packages\\azureml\\_base_sdk_common\\utils.py:10\u001b[39m\n\u001b[32m      8\u001b[39m \u001b[38;5;28;01mimport\u001b[39;00m\u001b[38;5;250m \u001b[39m\u001b[34;01mrequests\u001b[39;00m\n\u001b[32m      9\u001b[39m \u001b[38;5;28;01mfrom\u001b[39;00m\u001b[38;5;250m \u001b[39m\u001b[34;01mrequests\u001b[39;00m\u001b[34;01m.\u001b[39;00m\u001b[34;01madapters\u001b[39;00m\u001b[38;5;250m \u001b[39m\u001b[38;5;28;01mimport\u001b[39;00m HTTPAdapter\n\u001b[32m---> \u001b[39m\u001b[32m10\u001b[39m \u001b[38;5;28;01mfrom\u001b[39;00m\u001b[38;5;250m \u001b[39m\u001b[34;01mcollections\u001b[39;00m\u001b[38;5;250m \u001b[39m\u001b[38;5;28;01mimport\u001b[39;00m Iterable\n\u001b[32m     12\u001b[39m \u001b[38;5;28;01mfrom\u001b[39;00m\u001b[38;5;250m \u001b[39m\u001b[34;01murllib3\u001b[39;00m\u001b[38;5;250m \u001b[39m\u001b[38;5;28;01mimport\u001b[39;00m Retry\n\u001b[32m     13\u001b[39m \u001b[38;5;28;01mfrom\u001b[39;00m\u001b[38;5;250m \u001b[39m\u001b[34;01mos\u001b[39;00m\u001b[38;5;250m \u001b[39m\u001b[38;5;28;01mimport\u001b[39;00m path\n",
      "\u001b[31mImportError\u001b[39m: cannot import name 'Iterable' from 'collections' (C:\\Program Files\\WindowsApps\\PythonSoftwareFoundation.Python.3.12_3.12.2800.0_x64__qbz5n2kfra8p0\\Lib\\collections\\__init__.py)"
     ]
    }
   ],
   "source": [
    "import os\n",
    "\n",
    "import json\n",
    "\n",
    "import requests\n",
    "\n",
    "import pkg_resources\n",
    "from dotenv import load_dotenv\n",
    "from azureml.core.model import Model\n",
    "\n",
    "from azureml.core.webservice import AciWebservice, Webservice\n",
    "\n",
    "\n",
    "from azureml.core import Workspace\n",
    "from azureml.core.environment import Environment\n",
    "from azureml.core.conda_dependencies import CondaDependencies\n",
    "from azureml.core.model import InferenceConfig\n"
   ]
  },
  {
   "cell_type": "code",
   "execution_count": 9,
   "id": "075df5f6",
   "metadata": {},
   "outputs": [
    {
     "ename": "NameError",
     "evalue": "name 'json' is not defined",
     "output_type": "error",
     "traceback": [
      "\u001b[31m---------------------------------------------------------------------------\u001b[39m",
      "\u001b[31mNameError\u001b[39m                                 Traceback (most recent call last)",
      "\u001b[36mCell\u001b[39m\u001b[36m \u001b[39m\u001b[32mIn[9]\u001b[39m\u001b[32m, line 6\u001b[39m\n\u001b[32m      4\u001b[39m \u001b[38;5;66;03m# Read JSON data into a dictionary\u001b[39;00m\n\u001b[32m      5\u001b[39m \u001b[38;5;28;01mwith\u001b[39;00m \u001b[38;5;28mopen\u001b[39m(config_file_path, \u001b[33m'\u001b[39m\u001b[33mr\u001b[39m\u001b[33m'\u001b[39m) \u001b[38;5;28;01mas\u001b[39;00m file:\n\u001b[32m----> \u001b[39m\u001b[32m6\u001b[39m     data = \u001b[43mjson\u001b[49m.load(file)\n\u001b[32m      8\u001b[39m subscription_id = data[\u001b[33m\"\u001b[39m\u001b[33msubscription_id\u001b[39m\u001b[33m\"\u001b[39m]\n\u001b[32m      9\u001b[39m resource_group = data[\u001b[33m\"\u001b[39m\u001b[33mresource_group\u001b[39m\u001b[33m\"\u001b[39m]  \n",
      "\u001b[31mNameError\u001b[39m: name 'json' is not defined"
     ]
    }
   ],
   "source": [
    "# laoding the configuration file - standard way - use .env file and load_dotenv from python-dotenv module\n",
    "config_file_path = r\"C:\\Users\\alaat\\Downloads\\Project\\config.json\"\n",
    "\n",
    "# Read JSON data into a dictionary\n",
    "with open(config_file_path, 'r') as file:\n",
    "    data = json.load(file)\n",
    "\n",
    "subscription_id = data[\"subscription_id\"]\n",
    "resource_group = data[\"resource_group\"]  \n",
    "workspace_name = data[\"workspace_name\"]\n",
    "region = data[\"region\"]"
   ]
  },
  {
   "cell_type": "code",
   "execution_count": 4,
   "id": "c1a2366d",
   "metadata": {},
   "outputs": [
    {
     "ename": "NameError",
     "evalue": "name 'resource_group' is not defined",
     "output_type": "error",
     "traceback": [
      "\u001b[31m---------------------------------------------------------------------------\u001b[39m",
      "\u001b[31mNameError\u001b[39m                                 Traceback (most recent call last)",
      "\u001b[36mCell\u001b[39m\u001b[36m \u001b[39m\u001b[32mIn[4]\u001b[39m\u001b[32m, line 1\u001b[39m\n\u001b[32m----> \u001b[39m\u001b[32m1\u001b[39m \u001b[38;5;28mprint\u001b[39m(\u001b[43mresource_group\u001b[49m)\n\u001b[32m      2\u001b[39m \u001b[38;5;28mprint\u001b[39m(workspace_name)\n\u001b[32m      3\u001b[39m \u001b[38;5;28mprint\u001b[39m(region)\n",
      "\u001b[31mNameError\u001b[39m: name 'resource_group' is not defined"
     ]
    }
   ],
   "source": [
    "print(resource_group)\n",
    "print(workspace_name)\n",
    "print(region)"
   ]
  },
  {
   "cell_type": "markdown",
   "id": "d6fd3a73",
   "metadata": {},
   "source": [
    "**Create a Resource Group from Azure Portal**"
   ]
  },
  {
   "cell_type": "code",
   "execution_count": 3,
   "id": "7a50e565",
   "metadata": {},
   "outputs": [
    {
     "ename": "NameError",
     "evalue": "name 'Workspace' is not defined",
     "output_type": "error",
     "traceback": [
      "\u001b[31m---------------------------------------------------------------------------\u001b[39m",
      "\u001b[31mNameError\u001b[39m                                 Traceback (most recent call last)",
      "\u001b[36mCell\u001b[39m\u001b[36m \u001b[39m\u001b[32mIn[3]\u001b[39m\u001b[32m, line 3\u001b[39m\n\u001b[32m      1\u001b[39m \u001b[38;5;66;03m# Create a workspace\u001b[39;00m\n\u001b[32m----> \u001b[39m\u001b[32m3\u001b[39m ws = \u001b[43mWorkspace\u001b[49m.create(name=workspace_name,\n\u001b[32m      4\u001b[39m                       subscription_id=subscription_id,\n\u001b[32m      5\u001b[39m                       resource_group=resource_group,\n\u001b[32m      6\u001b[39m                       location=region)\n\u001b[32m      8\u001b[39m \u001b[38;5;28mprint\u001b[39m(\u001b[33mf\u001b[39m\u001b[33m'\u001b[39m\u001b[33mWorkspace \u001b[39m\u001b[38;5;132;01m{\u001b[39;00mworkspace_name\u001b[38;5;132;01m}\u001b[39;00m\u001b[33m created\u001b[39m\u001b[33m'\u001b[39m)\n",
      "\u001b[31mNameError\u001b[39m: name 'Workspace' is not defined"
     ]
    }
   ],
   "source": [
    "# Create a workspace\n",
    "\n",
    "ws = Workspace.create(name=workspace_name,\n",
    "                      subscription_id=subscription_id,\n",
    "                      resource_group=resource_group,\n",
    "                      location=region)\n",
    "\n",
    "print(f'Workspace {workspace_name} created')"
   ]
  },
  {
   "cell_type": "code",
   "execution_count": null,
   "id": "48edce9a",
   "metadata": {},
   "outputs": [],
   "source": [
    "# Specify the path to your  model file\n",
    "model_path = 'notebookf6a1c8e403.ipynb'"
   ]
  },
  {
   "cell_type": "code",
   "execution_count": null,
   "id": "bb86b7ff",
   "metadata": {},
   "outputs": [],
   "source": [
    "model_name='Garbage_Classification_and_Detecion'"
   ]
  },
  {
   "cell_type": "code",
   "execution_count": null,
   "id": "d063f2d1",
   "metadata": {},
   "outputs": [
    {
     "name": "stdout",
     "output_type": "stream",
     "text": [
      "Registering model diabetes_prediction_model\n"
     ]
    }
   ],
   "source": [
    "# Register the model in Azure Machine Learning\n",
    "registered_model = Model.register(model_path=model_path, model_name=model_name, workspace=ws)"
   ]
  },
  {
   "cell_type": "code",
   "execution_count": null,
   "id": "ff2cacc8",
   "metadata": {},
   "outputs": [],
   "source": [
    "# Create a Conda environment for your scikit-learn model\n",
    "conda_env = Environment('my-conda-env')\n",
    "conda_env.python.conda_dependencies = CondaDependencies.create(conda_packages=['scikit-learn'])"
   ]
  },
  {
   "cell_type": "code",
   "execution_count": null,
   "id": "0b0bacfa",
   "metadata": {},
   "outputs": [],
   "source": [
    "# Create an InferenceConfig\n",
    "inference_config = InferenceConfig(entry_script='score.py', environment=conda_env)"
   ]
  },
  {
   "cell_type": "code",
   "execution_count": null,
   "id": "c34b0bae",
   "metadata": {},
   "outputs": [],
   "source": [
    "# Specify deployment configuration for ACI\n",
    "aci_config = AciWebservice.deploy_configuration(cpu_cores=1, memory_gb=1)"
   ]
  },
  {
   "cell_type": "code",
   "execution_count": null,
   "id": "e1c774e6",
   "metadata": {},
   "outputs": [
    {
     "name": "stderr",
     "output_type": "stream",
     "text": [
      "/tmp/ipykernel_18897/3861565384.py:1: FutureWarning: azureml.core.model:\n",
      "To leverage new model deployment capabilities, AzureML recommends using CLI/SDK v2 to deploy models as online endpoint, \n",
      "please refer to respective documentations \n",
      "https://docs.microsoft.com/azure/machine-learning/how-to-deploy-managed-online-endpoints /\n",
      "https://docs.microsoft.com/azure/machine-learning/how-to-attach-kubernetes-anywhere \n",
      "For more information on migration, see https://aka.ms/acimoemigration \n",
      "To disable CLI/SDK v1 deprecation warning set AZUREML_LOG_DEPRECATION_WARNING_ENABLED to 'False'\n",
      "  service = Model.deploy(workspace=ws,\n"
     ]
    },
    {
     "name": "stdout",
     "output_type": "stream",
     "text": [
      "Tips: You can try get_logs(): https://aka.ms/debugimage#dockerlog or local deployment: https://aka.ms/debugimage#debug-locally to debug if deployment takes longer than 10 minutes.\n",
      "Running\n",
      "2024-01-07 13:25:51+05:30 Creating Container Registry if not exists..\n",
      "2024-01-07 13:35:51+05:30 Registering the environment..\n",
      "2024-01-07 13:35:55+05:30 Building image..\n",
      "2024-01-07 13:46:10+05:30 Generating deployment configuration.\n",
      "2024-01-07 13:46:11+05:30 Submitting deployment to compute..\n",
      "2024-01-07 13:46:19+05:30 Checking the status of deployment diabetes-prediction-service..\n",
      "2024-01-07 13:48:02+05:30 Checking the status of inference endpoint diabetes-prediction-service.\n",
      "Succeeded\n",
      "ACI service creation operation finished, operation \"Succeeded\"\n"
     ]
    }
   ],
   "source": [
    "service = Model.deploy(workspace=ws,\n",
    "                       name='Garbage_Classification_and_Detecion_service',\n",
    "                       models=[registered_model],\n",
    "                       inference_config=inference_config,\n",
    "                       deployment_config=aci_config)\n",
    "service.wait_for_deployment(show_output=True)"
   ]
  },
  {
   "cell_type": "code",
   "execution_count": null,
   "id": "f87d436f",
   "metadata": {},
   "outputs": [],
   "source": [
    "scoring_uri = service.scoring_uri"
   ]
  },
  {
   "cell_type": "code",
   "execution_count": null,
   "id": "11dadabd",
   "metadata": {},
   "outputs": [
    {
     "data": {
      "text/plain": [
       "'http://82a1dd63-7ec8-49e6-8668-c222ce56cb2e.centralindia.azurecontainer.io/score'"
      ]
     },
     "metadata": {},
     "output_type": "display_data"
    }
   ],
   "source": [
    "scoring_uri"
   ]
  },
  {
   "cell_type": "markdown",
   "id": "e347c6df",
   "metadata": {},
   "source": [
    "**Cleaning up all the created resources**"
   ]
  },
  {
   "cell_type": "code",
   "execution_count": null,
   "id": "f1084c8e",
   "metadata": {},
   "outputs": [],
   "source": [
    "# Delete the service\n",
    "\n",
    "service_name = \"diabetes-prediction-service\"\n",
    "\n",
    "service = ws.webservices[service_name]\n",
    "service.delete()"
   ]
  },
  {
   "cell_type": "code",
   "execution_count": null,
   "id": "c88df3f7",
   "metadata": {},
   "outputs": [],
   "source": [
    "# Specify the name of the registered model to delete\n",
    "model_name = 'diabetes_prediction_model'\n",
    "\n",
    "# Delete the model\n",
    "registered_model = ws.models[model_name]\n",
    "registered_model.delete()\n"
   ]
  },
  {
   "cell_type": "code",
   "execution_count": null,
   "id": "b23b57a4",
   "metadata": {},
   "outputs": [],
   "source": [
    "# Delete the workspace\n",
    "ws.delete(delete_dependent_resources=True)"
   ]
  },
  {
   "cell_type": "code",
   "execution_count": null,
   "id": "ebcf146a",
   "metadata": {},
   "outputs": [],
   "source": []
  },
  {
   "cell_type": "code",
   "execution_count": null,
   "id": "addeff91",
   "metadata": {},
   "outputs": [],
   "source": []
  },
  {
   "cell_type": "code",
   "execution_count": null,
   "id": "974d52d2",
   "metadata": {},
   "outputs": [],
   "source": []
  },
  {
   "cell_type": "code",
   "execution_count": null,
   "id": "156367f3",
   "metadata": {},
   "outputs": [],
   "source": []
  }
 ],
 "metadata": {
  "kernelspec": {
   "display_name": "env",
   "language": "python",
   "name": "python3"
  },
  "language_info": {
   "codemirror_mode": {
    "name": "ipython",
    "version": 3
   },
   "file_extension": ".py",
   "mimetype": "text/x-python",
   "name": "python",
   "nbconvert_exporter": "python",
   "pygments_lexer": "ipython3",
   "version": "3.12.10"
  }
 },
 "nbformat": 4,
 "nbformat_minor": 5
}
